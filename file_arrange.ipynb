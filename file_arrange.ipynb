{
 "cells": [
  {
   "cell_type": "code",
   "execution_count": 1,
   "metadata": {},
   "outputs": [],
   "source": [
    "first_order=['P127','P155','P156','P355','P749','P1830','P1889']\n",
    "second_order=[['P31','P366'],['P31','P452'],['P31','P1056'],['P112','P112'],['P112','P127'],['P112','P169'],['P113','P113'],['P114','P114'],['P121','P1056'],\n",
    "['P121','P121'],['P127','P127'],['P127','P169'],['P127','P749'],['P127','P1830'],['P127','P3320'],['P155','P155'],['P155','P355'],['P166','P166'],\n",
    "['P169','P169'],['P169','P3320'],['P199','P355'],['P306','P1056'],['P355','P127'],['P355','P199'],['P355','P355'],['P361','P361'],\n",
    "['P400','P1056'],['P452','P452'],['P452','P2770'],['P463','P463'],['P749','P1830'],\n",
    "['P1056','P1056'],['P1344','P1344'],['P1454','P1454'],['P159','P159'],['P159','P740'],['P414','P361'],\n",
    "['P740','P159'],['P740','P740'],['P127','P355'],['P361','P414'],\n",
    "['P452','P31'],['P452','P1056'],['P625','P625'],['P159','P17'],['P793','P793'],['P452','P1454'],\n",
    "['P452','P176'],['P6379','P6379'],['P749','P127'],['P749','P749'],['P4950','P495'],['P495','P740'],['P1830','P1830'],\n",
    "['P112','P749'],['P1056','P452'],['P1454','P452'],['P176','P452'],['P159','P131'],['P1830','P127'],['P1830','P749'],\n",
    "['P131','P159'],['P5009','P5009'],['P1056','P31'],['P1830','P355'],['P740','P495'],['P749','P112'],['P361','P463'],\n",
    "['P463','P361'],['P355','P1830'],['P127','P112'],['P169','P112'],['P1056','P121'],['P169','P127'],['P3320','P127'],\n",
    "['P355','P155'],['P3320','P169'],['P1056','P306'],['P17','P159'],['P495','P4950'],['P366','P31'],['P1056','P400'],['P2770','P452']]"
   ]
  },
  {
   "cell_type": "code",
   "execution_count": 5,
   "metadata": {},
   "outputs": [],
   "source": [
    "import csv\n",
    "second=open('./first_order.csv','w',encoding='UTF-8')\n",
    "fieldnames=['r']\n",
    "writer=csv.DictWriter(second,fieldnames=fieldnames)\n",
    "order=[]\n",
    "\n",
    "for sample in first_order:\n",
    "    relation={}\n",
    "    relation['r']=sample\n",
    "    order.append(relation)\n",
    "\n",
    "\n",
    "\n",
    "writer.writeheader()\n",
    "writer.writerows(order)"
   ]
  },
  {
   "cell_type": "code",
   "execution_count": 6,
   "metadata": {},
   "outputs": [],
   "source": [
    "second_not=open('./second_not_arrange.csv','w',encoding='UTF-8')\n",
    "fieldnames=['index','r1','r2']\n",
    "writer=csv.DictWriter(second_not,fieldnames=fieldnames)\n",
    "data=list()\n",
    "for sample in second_order:\n",
    "    if sample not in data:\n",
    "        data.append(sample)\n",
    "second_not_arrange=[]\n",
    "number=1\n",
    "for sample in data:\n",
    "    sample_dict=dict()\n",
    "    sample_dict['index']=number\n",
    "    sample_dict['r1']=sample[0]\n",
    "    sample_dict['r2']=sample[1]\n",
    "    second_not_arrange.append(sample_dict)\n",
    "    number+=1\n",
    "writer.writeheader()\n",
    "writer.writerows(second_not_arrange)"
   ]
  },
  {
   "cell_type": "code",
   "execution_count": 8,
   "metadata": {},
   "outputs": [],
   "source": [
    "sample_data=[]\n",
    "for sample in second_order:\n",
    "    if set(sample) not in sample_data:\n",
    "        sample_data.append(set(sample))\n",
    "\n",
    "second_order_arrange=[]\n",
    "for i in sample_data:\n",
    "    sample_list=list(i)\n",
    "    if len(sample_list)==1:\n",
    "        sample_list.append(sample_list[0])\n",
    "    second_order_arrange.append(sample_list)\n",
    "\n",
    "second=open('./second_order_arrange.csv','w',encoding='UTF-8')\n",
    "fieldnames=['index','r1','r2']\n",
    "writer=csv.DictWriter(second,fieldnames=fieldnames)\n",
    "order=[]\n",
    "number=1\n",
    "for sample in second_order_arrange:\n",
    "    relation={}\n",
    "    relation['index']=number\n",
    "    relation['r1']=sample[0]\n",
    "    relation['r2']=sample[1]\n",
    "    order.append(relation)\n",
    "    number+=1\n",
    "\n",
    "\n",
    "writer.writeheader()\n",
    "writer.writerows(order)"
   ]
  },
  {
   "cell_type": "code",
   "execution_count": null,
   "metadata": {},
   "outputs": [],
   "source": []
  }
 ],
 "metadata": {
  "kernelspec": {
   "display_name": "Python 3",
   "language": "python",
   "name": "python3"
  },
  "language_info": {
   "codemirror_mode": {
    "name": "ipython",
    "version": 3
   },
   "file_extension": ".py",
   "mimetype": "text/x-python",
   "name": "python",
   "nbconvert_exporter": "python",
   "pygments_lexer": "ipython3",
   "version": "3.8.10 (tags/v3.8.10:3d8993a, May  3 2021, 11:48:03) [MSC v.1928 64 bit (AMD64)]"
  },
  "orig_nbformat": 4,
  "vscode": {
   "interpreter": {
    "hash": "ce2c101e633a132a2be35be8e919a9e0dab56f707b035eb5d9ffe17010837cfa"
   }
  }
 },
 "nbformat": 4,
 "nbformat_minor": 2
}
